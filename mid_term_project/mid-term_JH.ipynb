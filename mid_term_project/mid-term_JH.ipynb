{
  "cells": [
    {
      "cell_type": "code",
      "execution_count": 8,
      "metadata": {
        "colab": {
          "base_uri": "https://localhost:8080/"
        },
        "id": "lveXnh8FqN71",
        "outputId": "4f28bed2-d800-4a7a-cad8-248d3369afd2"
      },
      "outputs": [
        {
          "ename": "FileNotFoundError",
          "evalue": "[Errno 2] No such file or directory: '/content/accidentsFull.csv'",
          "output_type": "error",
          "traceback": [
            "\u001b[0;31m---------------------------------------------------------------------------\u001b[0m",
            "\u001b[0;31mFileNotFoundError\u001b[0m                         Traceback (most recent call last)",
            "\u001b[1;32m/home/jovyan/DataAnalysis/mid_term_project/mid-term_JH.ipynb 셀 1\u001b[0m line \u001b[0;36m6\n\u001b[1;32m      <a href='vscode-notebook-cell://ssh-remote%2B192.168.50.202/home/jovyan/DataAnalysis/mid_term_project/mid-term_JH.ipynb#W0sdnNjb2RlLXJlbW90ZQ%3D%3D?line=2'>3</a>\u001b[0m \u001b[39mimport\u001b[39;00m \u001b[39mpandas\u001b[39;00m \u001b[39mas\u001b[39;00m \u001b[39mpd\u001b[39;00m\n\u001b[1;32m      <a href='vscode-notebook-cell://ssh-remote%2B192.168.50.202/home/jovyan/DataAnalysis/mid_term_project/mid-term_JH.ipynb#W0sdnNjb2RlLXJlbW90ZQ%3D%3D?line=3'>4</a>\u001b[0m \u001b[39mimport\u001b[39;00m \u001b[39mnumpy\u001b[39;00m \u001b[39mas\u001b[39;00m \u001b[39mnp\u001b[39;00m\n\u001b[0;32m----> <a href='vscode-notebook-cell://ssh-remote%2B192.168.50.202/home/jovyan/DataAnalysis/mid_term_project/mid-term_JH.ipynb#W0sdnNjb2RlLXJlbW90ZQ%3D%3D?line=5'>6</a>\u001b[0m df \u001b[39m=\u001b[39m pd\u001b[39m.\u001b[39;49mread_csv(\u001b[39m'\u001b[39;49m\u001b[39m/content/accidentsFull.csv\u001b[39;49m\u001b[39m'\u001b[39;49m, index_col\u001b[39m=\u001b[39;49m\u001b[39mNone\u001b[39;49;00m)\n\u001b[1;32m      <a href='vscode-notebook-cell://ssh-remote%2B192.168.50.202/home/jovyan/DataAnalysis/mid_term_project/mid-term_JH.ipynb#W0sdnNjb2RlLXJlbW90ZQ%3D%3D?line=7'>8</a>\u001b[0m df[\u001b[39m'\u001b[39m\u001b[39mINJURY\u001b[39m\u001b[39m'\u001b[39m] \u001b[39m=\u001b[39m np\u001b[39m.\u001b[39mwhere(df[\u001b[39m'\u001b[39m\u001b[39mMAX_SEV_IR\u001b[39m\u001b[39m'\u001b[39m] \u001b[39m>\u001b[39m \u001b[39m0\u001b[39m, \u001b[39m1\u001b[39m, \u001b[39m0\u001b[39m)\n\u001b[1;32m     <a href='vscode-notebook-cell://ssh-remote%2B192.168.50.202/home/jovyan/DataAnalysis/mid_term_project/mid-term_JH.ipynb#W0sdnNjb2RlLXJlbW90ZQ%3D%3D?line=9'>10</a>\u001b[0m num_injuries \u001b[39m=\u001b[39m \u001b[39msum\u001b[39m(df[\u001b[39m'\u001b[39m\u001b[39mINJURY\u001b[39m\u001b[39m'\u001b[39m]\u001b[39m==\u001b[39m\u001b[39m1\u001b[39m)\n",
            "File \u001b[0;32m/opt/conda/envs/DataAnalysis/lib/python3.8/site-packages/pandas/io/parsers/readers.py:912\u001b[0m, in \u001b[0;36mread_csv\u001b[0;34m(filepath_or_buffer, sep, delimiter, header, names, index_col, usecols, dtype, engine, converters, true_values, false_values, skipinitialspace, skiprows, skipfooter, nrows, na_values, keep_default_na, na_filter, verbose, skip_blank_lines, parse_dates, infer_datetime_format, keep_date_col, date_parser, date_format, dayfirst, cache_dates, iterator, chunksize, compression, thousands, decimal, lineterminator, quotechar, quoting, doublequote, escapechar, comment, encoding, encoding_errors, dialect, on_bad_lines, delim_whitespace, low_memory, memory_map, float_precision, storage_options, dtype_backend)\u001b[0m\n\u001b[1;32m    899\u001b[0m kwds_defaults \u001b[39m=\u001b[39m _refine_defaults_read(\n\u001b[1;32m    900\u001b[0m     dialect,\n\u001b[1;32m    901\u001b[0m     delimiter,\n\u001b[0;32m   (...)\u001b[0m\n\u001b[1;32m    908\u001b[0m     dtype_backend\u001b[39m=\u001b[39mdtype_backend,\n\u001b[1;32m    909\u001b[0m )\n\u001b[1;32m    910\u001b[0m kwds\u001b[39m.\u001b[39mupdate(kwds_defaults)\n\u001b[0;32m--> 912\u001b[0m \u001b[39mreturn\u001b[39;00m _read(filepath_or_buffer, kwds)\n",
            "File \u001b[0;32m/opt/conda/envs/DataAnalysis/lib/python3.8/site-packages/pandas/io/parsers/readers.py:577\u001b[0m, in \u001b[0;36m_read\u001b[0;34m(filepath_or_buffer, kwds)\u001b[0m\n\u001b[1;32m    574\u001b[0m _validate_names(kwds\u001b[39m.\u001b[39mget(\u001b[39m\"\u001b[39m\u001b[39mnames\u001b[39m\u001b[39m\"\u001b[39m, \u001b[39mNone\u001b[39;00m))\n\u001b[1;32m    576\u001b[0m \u001b[39m# Create the parser.\u001b[39;00m\n\u001b[0;32m--> 577\u001b[0m parser \u001b[39m=\u001b[39m TextFileReader(filepath_or_buffer, \u001b[39m*\u001b[39;49m\u001b[39m*\u001b[39;49mkwds)\n\u001b[1;32m    579\u001b[0m \u001b[39mif\u001b[39;00m chunksize \u001b[39mor\u001b[39;00m iterator:\n\u001b[1;32m    580\u001b[0m     \u001b[39mreturn\u001b[39;00m parser\n",
            "File \u001b[0;32m/opt/conda/envs/DataAnalysis/lib/python3.8/site-packages/pandas/io/parsers/readers.py:1407\u001b[0m, in \u001b[0;36mTextFileReader.__init__\u001b[0;34m(self, f, engine, **kwds)\u001b[0m\n\u001b[1;32m   1404\u001b[0m     \u001b[39mself\u001b[39m\u001b[39m.\u001b[39moptions[\u001b[39m\"\u001b[39m\u001b[39mhas_index_names\u001b[39m\u001b[39m\"\u001b[39m] \u001b[39m=\u001b[39m kwds[\u001b[39m\"\u001b[39m\u001b[39mhas_index_names\u001b[39m\u001b[39m\"\u001b[39m]\n\u001b[1;32m   1406\u001b[0m \u001b[39mself\u001b[39m\u001b[39m.\u001b[39mhandles: IOHandles \u001b[39m|\u001b[39m \u001b[39mNone\u001b[39;00m \u001b[39m=\u001b[39m \u001b[39mNone\u001b[39;00m\n\u001b[0;32m-> 1407\u001b[0m \u001b[39mself\u001b[39m\u001b[39m.\u001b[39m_engine \u001b[39m=\u001b[39m \u001b[39mself\u001b[39;49m\u001b[39m.\u001b[39;49m_make_engine(f, \u001b[39mself\u001b[39;49m\u001b[39m.\u001b[39;49mengine)\n",
            "File \u001b[0;32m/opt/conda/envs/DataAnalysis/lib/python3.8/site-packages/pandas/io/parsers/readers.py:1661\u001b[0m, in \u001b[0;36mTextFileReader._make_engine\u001b[0;34m(self, f, engine)\u001b[0m\n\u001b[1;32m   1659\u001b[0m     \u001b[39mif\u001b[39;00m \u001b[39m\"\u001b[39m\u001b[39mb\u001b[39m\u001b[39m\"\u001b[39m \u001b[39mnot\u001b[39;00m \u001b[39min\u001b[39;00m mode:\n\u001b[1;32m   1660\u001b[0m         mode \u001b[39m+\u001b[39m\u001b[39m=\u001b[39m \u001b[39m\"\u001b[39m\u001b[39mb\u001b[39m\u001b[39m\"\u001b[39m\n\u001b[0;32m-> 1661\u001b[0m \u001b[39mself\u001b[39m\u001b[39m.\u001b[39mhandles \u001b[39m=\u001b[39m get_handle(\n\u001b[1;32m   1662\u001b[0m     f,\n\u001b[1;32m   1663\u001b[0m     mode,\n\u001b[1;32m   1664\u001b[0m     encoding\u001b[39m=\u001b[39;49m\u001b[39mself\u001b[39;49m\u001b[39m.\u001b[39;49moptions\u001b[39m.\u001b[39;49mget(\u001b[39m\"\u001b[39;49m\u001b[39mencoding\u001b[39;49m\u001b[39m\"\u001b[39;49m, \u001b[39mNone\u001b[39;49;00m),\n\u001b[1;32m   1665\u001b[0m     compression\u001b[39m=\u001b[39;49m\u001b[39mself\u001b[39;49m\u001b[39m.\u001b[39;49moptions\u001b[39m.\u001b[39;49mget(\u001b[39m\"\u001b[39;49m\u001b[39mcompression\u001b[39;49m\u001b[39m\"\u001b[39;49m, \u001b[39mNone\u001b[39;49;00m),\n\u001b[1;32m   1666\u001b[0m     memory_map\u001b[39m=\u001b[39;49m\u001b[39mself\u001b[39;49m\u001b[39m.\u001b[39;49moptions\u001b[39m.\u001b[39;49mget(\u001b[39m\"\u001b[39;49m\u001b[39mmemory_map\u001b[39;49m\u001b[39m\"\u001b[39;49m, \u001b[39mFalse\u001b[39;49;00m),\n\u001b[1;32m   1667\u001b[0m     is_text\u001b[39m=\u001b[39;49mis_text,\n\u001b[1;32m   1668\u001b[0m     errors\u001b[39m=\u001b[39;49m\u001b[39mself\u001b[39;49m\u001b[39m.\u001b[39;49moptions\u001b[39m.\u001b[39;49mget(\u001b[39m\"\u001b[39;49m\u001b[39mencoding_errors\u001b[39;49m\u001b[39m\"\u001b[39;49m, \u001b[39m\"\u001b[39;49m\u001b[39mstrict\u001b[39;49m\u001b[39m\"\u001b[39;49m),\n\u001b[1;32m   1669\u001b[0m     storage_options\u001b[39m=\u001b[39;49m\u001b[39mself\u001b[39;49m\u001b[39m.\u001b[39;49moptions\u001b[39m.\u001b[39;49mget(\u001b[39m\"\u001b[39;49m\u001b[39mstorage_options\u001b[39;49m\u001b[39m\"\u001b[39;49m, \u001b[39mNone\u001b[39;49;00m),\n\u001b[1;32m   1670\u001b[0m )\n\u001b[1;32m   1671\u001b[0m \u001b[39massert\u001b[39;00m \u001b[39mself\u001b[39m\u001b[39m.\u001b[39mhandles \u001b[39mis\u001b[39;00m \u001b[39mnot\u001b[39;00m \u001b[39mNone\u001b[39;00m\n\u001b[1;32m   1672\u001b[0m f \u001b[39m=\u001b[39m \u001b[39mself\u001b[39m\u001b[39m.\u001b[39mhandles\u001b[39m.\u001b[39mhandle\n",
            "File \u001b[0;32m/opt/conda/envs/DataAnalysis/lib/python3.8/site-packages/pandas/io/common.py:859\u001b[0m, in \u001b[0;36mget_handle\u001b[0;34m(path_or_buf, mode, encoding, compression, memory_map, is_text, errors, storage_options)\u001b[0m\n\u001b[1;32m    854\u001b[0m \u001b[39melif\u001b[39;00m \u001b[39misinstance\u001b[39m(handle, \u001b[39mstr\u001b[39m):\n\u001b[1;32m    855\u001b[0m     \u001b[39m# Check whether the filename is to be opened in binary mode.\u001b[39;00m\n\u001b[1;32m    856\u001b[0m     \u001b[39m# Binary mode does not support 'encoding' and 'newline'.\u001b[39;00m\n\u001b[1;32m    857\u001b[0m     \u001b[39mif\u001b[39;00m ioargs\u001b[39m.\u001b[39mencoding \u001b[39mand\u001b[39;00m \u001b[39m\"\u001b[39m\u001b[39mb\u001b[39m\u001b[39m\"\u001b[39m \u001b[39mnot\u001b[39;00m \u001b[39min\u001b[39;00m ioargs\u001b[39m.\u001b[39mmode:\n\u001b[1;32m    858\u001b[0m         \u001b[39m# Encoding\u001b[39;00m\n\u001b[0;32m--> 859\u001b[0m         handle \u001b[39m=\u001b[39m \u001b[39mopen\u001b[39;49m(\n\u001b[1;32m    860\u001b[0m             handle,\n\u001b[1;32m    861\u001b[0m             ioargs\u001b[39m.\u001b[39;49mmode,\n\u001b[1;32m    862\u001b[0m             encoding\u001b[39m=\u001b[39;49mioargs\u001b[39m.\u001b[39;49mencoding,\n\u001b[1;32m    863\u001b[0m             errors\u001b[39m=\u001b[39;49merrors,\n\u001b[1;32m    864\u001b[0m             newline\u001b[39m=\u001b[39;49m\u001b[39m\"\u001b[39;49m\u001b[39m\"\u001b[39;49m,\n\u001b[1;32m    865\u001b[0m         )\n\u001b[1;32m    866\u001b[0m     \u001b[39melse\u001b[39;00m:\n\u001b[1;32m    867\u001b[0m         \u001b[39m# Binary mode\u001b[39;00m\n\u001b[1;32m    868\u001b[0m         handle \u001b[39m=\u001b[39m \u001b[39mopen\u001b[39m(handle, ioargs\u001b[39m.\u001b[39mmode)\n",
            "\u001b[0;31mFileNotFoundError\u001b[0m: [Errno 2] No such file or directory: '/content/accidentsFull.csv'"
          ]
        }
      ],
      "source": [
        "# a.\n",
        "\n",
        "import pandas as pd\n",
        "import numpy as np\n",
        "\n",
        "df = pd.read_csv('/content/accidentsFull.csv', index_col=None)\n",
        "\n",
        "df['INJURY'] = np.where(df['MAX_SEV_IR'] > 0, 1, 0)\n",
        "\n",
        "num_injuries = sum(df['INJURY']==1)\n",
        "\n",
        "print(f\"{num_injuries/len(df)=:.4f}\")"
      ]
    },
    {
      "cell_type": "code",
      "execution_count": null,
      "metadata": {
        "colab": {
          "base_uri": "https://localhost:8080/"
        },
        "id": "stXtKpd4PJe3",
        "outputId": "6ee7ec2b-ff7f-4560-db36-3d6b6bf3f047"
      },
      "outputs": [
        {
          "data": {
            "text/plain": [
              "Index(['HOUR_I_R', 'ALCHL_I', 'ALIGN_I', 'STRATUM_R', 'WRK_ZONE', 'WKDY_I_R',\n",
              "       'INT_HWY', 'LGTCON_I_R', 'MANCOL_I_R', 'PED_ACC_R', 'RELJCT_I_R',\n",
              "       'REL_RWY_R', 'PROFIL_I_R', 'SPD_LIM', 'SUR_COND', 'TRAF_CON_R',\n",
              "       'TRAF_WAY', 'VEH_INVL', 'WEATHER_R', 'INJURY_CRASH', 'NO_INJ_I',\n",
              "       'PRPTYDMG_CRASH', 'FATALITIES', 'MAX_SEV_IR', 'INJURY'],\n",
              "      dtype='object')"
            ]
          },
          "execution_count": 25,
          "metadata": {},
          "output_type": "execute_result"
        }
      ],
      "source": [
        "df.columns"
      ]
    },
    {
      "cell_type": "code",
      "execution_count": null,
      "metadata": {
        "colab": {
          "base_uri": "https://localhost:8080/"
        },
        "id": "6XDZO4K9qTDX",
        "outputId": "2a4fe723-c821-4cdb-9cd3-4f2083d7e5b1"
      },
      "outputs": [
        {
          "name": "stdout",
          "output_type": "stream",
          "text": [
            "    WEATHER_R  TRAF_CON_R  INJURY\n",
            "0           1           0       1\n",
            "1           2           0       0\n",
            "2           2           1       0\n",
            "3           1           1       0\n",
            "4           1           0       0\n",
            "5           2           0       1\n",
            "6           2           0       0\n",
            "7           1           0       1\n",
            "8           2           0       0\n",
            "9           2           0       0\n",
            "10          2           0       0\n",
            "11          1           2       0\n"
          ]
        }
      ],
      "source": [
        "# b.\n",
        "\n",
        "df_b = df[['WEATHER_R', 'TRAF_CON_R', 'INJURY']][:12]\n",
        "print(df_b)"
      ]
    },
    {
      "cell_type": "code",
      "execution_count": null,
      "metadata": {
        "colab": {
          "base_uri": "https://localhost:8080/"
        },
        "id": "-XOmjUNXfooh",
        "outputId": "1e6b5a5e-04bd-480e-fc57-752e84048255"
      },
      "outputs": [
        {
          "name": "stdout",
          "output_type": "stream",
          "text": [
            "TRAF_CON_R         0    1    2\n",
            "WEATHER_R                     \n",
            "1           0.666667  0.0  0.0\n",
            "2           0.166667  0.0  NaN\n"
          ]
        }
      ],
      "source": [
        "# b.i\n",
        "\n",
        "pivot_table = df_b.pivot_table(\n",
        "    values='INJURY',\n",
        "    index='WEATHER_R',\n",
        "    columns='TRAF_CON_R')\n",
        "\n",
        "print(pivot_table)"
      ]
    },
    {
      "cell_type": "code",
      "execution_count": null,
      "metadata": {
        "colab": {
          "base_uri": "https://localhost:8080/"
        },
        "id": "1s-VEgXCqYR_",
        "outputId": "5c0f9ae7-a22a-44de-afd3-c51cda3474fb"
      },
      "outputs": [
        {
          "name": "stdout",
          "output_type": "stream",
          "text": [
            "data  0. 정답: 1\n",
            "Exact | 예측: 1, 부상 확률: 0.6667\n",
            "Naive | 예측: 1, 부상 확률: 0.5000\n",
            "data  1. 정답: 0\n",
            "Exact | 예측: 0, 부상 확률: 0.1667\n",
            "Naive | 예측: 0, 부상 확률: 0.2000\n",
            "data  2. 정답: 0\n",
            "Exact | 예측: 0, 부상 확률: 0.0000\n",
            "Naive | 예측: 0, 부상 확률: 0.0000\n",
            "data  3. 정답: 0\n",
            "Exact | 예측: 0, 부상 확률: 0.0000\n",
            "Naive | 예측: 0, 부상 확률: 0.0000\n",
            "data  4. 정답: 0\n",
            "Exact | 예측: 1, 부상 확률: 0.6667\n",
            "Naive | 예측: 1, 부상 확률: 0.5000\n",
            "data  5. 정답: 1\n",
            "Exact | 예측: 0, 부상 확률: 0.1667\n",
            "Naive | 예측: 0, 부상 확률: 0.2000\n",
            "data  6. 정답: 0\n",
            "Exact | 예측: 0, 부상 확률: 0.1667\n",
            "Naive | 예측: 0, 부상 확률: 0.2000\n",
            "data  7. 정답: 1\n",
            "Exact | 예측: 1, 부상 확률: 0.6667\n",
            "Naive | 예측: 1, 부상 확률: 0.5000\n",
            "data  8. 정답: 0\n",
            "Exact | 예측: 0, 부상 확률: 0.1667\n",
            "Naive | 예측: 0, 부상 확률: 0.2000\n",
            "data  9. 정답: 0\n",
            "Exact | 예측: 0, 부상 확률: 0.1667\n",
            "Naive | 예측: 0, 부상 확률: 0.2000\n",
            "data 10. 정답: 0\n",
            "Exact | 예측: 0, 부상 확률: 0.1667\n",
            "Naive | 예측: 0, 부상 확률: 0.2000\n",
            "data 11. 정답: 0\n",
            "Exact | 예측: 0, 부상 확률: 0.0000\n",
            "Naive | 예측: 0, 부상 확률: 0.0000\n"
          ]
        },
        {
          "name": "stderr",
          "output_type": "stream",
          "text": [
            "/usr/local/lib/python3.10/dist-packages/sklearn/naive_bayes.py:1504: RuntimeWarning: divide by zero encountered in log\n",
            "  np.log(smoothed_cat_count) - np.log(smoothed_class_count.reshape(-1, 1))\n"
          ]
        }
      ],
      "source": [
        "# b.v\n",
        "\n",
        "exact_probs = [2/3, 1/6, 0, 0, 2/3, 1/6, 1/6, 2/3, 1/6, 1/6, 1/6, 0]\n",
        "\n",
        "from sklearn.naive_bayes import CategoricalNB\n",
        "\n",
        "X = df_b.drop('INJURY', axis=1)\n",
        "y = df_b['INJURY']\n",
        "\n",
        "nb_classifier = CategoricalNB(alpha=0)\n",
        "nb_classifier.fit(X, y)\n",
        "\n",
        "y_pred = nb_classifier.predict(X)\n",
        "y_prob = nb_classifier.predict_proba(X)\n",
        "\n",
        "for idx in range(len(y_pred)):\n",
        "    print(f\"data {idx:2d}. 정답: {y[idx]}\")\n",
        "    print(f\"{'Exact':5} | 예측: {int(exact_probs[idx]>=0.5)}, 부상 확률: {exact_probs[idx]:.4f}\")\n",
        "    print(f\"{'Naive':5} | 예측: {y_pred[idx]}, 부상 확률: {y_prob[idx][1]:.4f}\")"
      ]
    },
    {
      "cell_type": "code",
      "execution_count": null,
      "metadata": {
        "id": "xI0H7pgLPpz1"
      },
      "outputs": [],
      "source": [
        "# c.i\n",
        "\n",
        "import pandas as pd\n",
        "from sklearn.model_selection import train_test_split\n",
        "from sklearn.naive_bayes import CategoricalNB\n",
        "from sklearn.metrics import accuracy_score, confusion_matrix\n",
        "\n",
        "\n",
        "df_c = df[['HOUR_I_R', 'WKDY_I_R', 'LGTCON_I_R',\n",
        "           'ALIGN_I', 'WRK_ZONE', 'INT_HWY', 'RELJCT_I_R', 'REL_RWY_R', 'PROFIL_I_R', 'SPD_LIM', 'TRAF_CON_R', 'TRAF_WAY',\n",
        "           'SUR_COND', 'WEATHER_R',\n",
        "           'INJURY']]"
      ]
    },
    {
      "cell_type": "code",
      "execution_count": null,
      "metadata": {
        "colab": {
          "base_uri": "https://localhost:8080/"
        },
        "id": "Rqlkins8qgGr",
        "outputId": "98721577-4cbe-4aea-8569-d919c4996c4a"
      },
      "outputs": [
        {
          "name": "stdout",
          "output_type": "stream",
          "text": [
            "confusion matrix:\n",
            " [[3783 4490]\n",
            " [3391 5210]]\n",
            "error rate: 0.4670\n"
          ]
        },
        {
          "name": "stderr",
          "output_type": "stream",
          "text": [
            "/usr/local/lib/python3.10/dist-packages/sklearn/naive_bayes.py:1504: RuntimeWarning: divide by zero encountered in log\n",
            "  np.log(smoothed_cat_count) - np.log(smoothed_class_count.reshape(-1, 1))\n"
          ]
        }
      ],
      "source": [
        "# c.ii & c.iii\n",
        "\n",
        "X = df_c.drop(['INJURY'], axis=1)\n",
        "y = df_c['INJURY']\n",
        "\n",
        "X_train, X_test, y_train, y_test = train_test_split(X, y, test_size=0.4, random_state=42)\n",
        "\n",
        "nb_classifier = CategoricalNB(alpha=0)\n",
        "nb_classifier.fit(X_train, y_train)\n",
        "\n",
        "y_pred = nb_classifier.predict(X_test)\n",
        "y_prob = nb_classifier.predict_proba(X_test)\n",
        "acc_sco = accuracy_score(y_test, y_pred)\n",
        "conf_mat = confusion_matrix(y_test, y_pred)\n",
        "error_rate = 1 - acc_sco\n",
        "\n",
        "print(\"confusion matrix:\\n\", conf_mat)\n",
        "print(f\"error rate: {error_rate:.4f}\")\n"
      ]
    },
    {
      "cell_type": "code",
      "execution_count": null,
      "metadata": {
        "colab": {
          "base_uri": "https://localhost:8080/"
        },
        "id": "yGnPJtaPeyfg",
        "outputId": "98dfd40b-3548-4641-f9bb-8c3bf48b8288"
      },
      "outputs": [
        {
          "name": "stdout",
          "output_type": "stream",
          "text": [
            "           INJURY\n",
            "SPD_LIM          \n",
            "5        0.666667\n",
            "10       0.500000\n",
            "15       0.491803\n",
            "20       0.366534\n",
            "25       0.466112\n",
            "30       0.513594\n",
            "35       0.532373\n",
            "40       0.540428\n",
            "45       0.508122\n",
            "50       0.493093\n",
            "55       0.498635\n",
            "60       0.561520\n",
            "65       0.495028\n",
            "70       0.437414\n",
            "75       0.554770\n"
          ]
        }
      ],
      "source": [
        "# c.v\n",
        "\n",
        "pivot_table = df_c.pivot_table(\n",
        "    values='INJURY',\n",
        "    index='SPD_LIM',\n",
        "    )\n",
        "\n",
        "print(pivot_table)"
      ]
    },
    {
      "cell_type": "code",
      "execution_count": null,
      "metadata": {
        "colab": {
          "base_uri": "https://localhost:8080/"
        },
        "id": "us3upoZ90jEs",
        "outputId": "6ee748cf-672e-48da-d817-de5be2ce5b0f"
      },
      "outputs": [
        {
          "ename": "NameError",
          "evalue": "name 'df_c' is not defined",
          "output_type": "error",
          "traceback": [
            "\u001b[0;31m---------------------------------------------------------------------------\u001b[0m",
            "\u001b[0;31mNameError\u001b[0m                                 Traceback (most recent call last)",
            "\u001b[1;32m/home/jovyan/DataAnalysis/mid_term_project/mid-term_JH.ipynb 셀 9\u001b[0m line \u001b[0;36m1\n\u001b[0;32m----> <a href='vscode-notebook-cell://ssh-remote%2B192.168.50.202/home/jovyan/DataAnalysis/mid_term_project/mid-term_JH.ipynb#X11sdnNjb2RlLXJlbW90ZQ%3D%3D?line=0'>1</a>\u001b[0m \u001b[39mprint\u001b[39m(df_c[df_c[\u001b[39m'\u001b[39m\u001b[39mSPD_LIM\u001b[39m\u001b[39m'\u001b[39m]\u001b[39m==\u001b[39m\u001b[39m5\u001b[39m])\n",
            "\u001b[0;31mNameError\u001b[0m: name 'df_c' is not defined"
          ]
        }
      ],
      "source": [
        "print(df_c[df_c['SPD_LIM']==5])"
      ]
    },
    {
      "cell_type": "code",
      "execution_count": null,
      "metadata": {
        "id": "8dQDy_7ezL55"
      },
      "outputs": [],
      "source": []
    }
  ],
  "metadata": {
    "colab": {
      "provenance": []
    },
    "kernelspec": {
      "display_name": "Conda (DataAnalysis)",
      "language": "python",
      "name": "dataanalysis"
    },
    "language_info": {
      "codemirror_mode": {
        "name": "ipython",
        "version": 3
      },
      "file_extension": ".py",
      "mimetype": "text/x-python",
      "name": "python",
      "nbconvert_exporter": "python",
      "pygments_lexer": "ipython3",
      "version": "3.8.20"
    }
  },
  "nbformat": 4,
  "nbformat_minor": 0
}
