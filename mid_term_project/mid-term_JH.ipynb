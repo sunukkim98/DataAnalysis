{
  "nbformat": 4,
  "nbformat_minor": 0,
  "metadata": {
    "colab": {
      "provenance": []
    },
    "kernelspec": {
      "name": "python3",
      "display_name": "Python 3"
    },
    "language_info": {
      "name": "python"
    }
  },
  "cells": [
    {
      "cell_type": "code",
      "execution_count": 24,
      "metadata": {
        "colab": {
          "base_uri": "https://localhost:8080/"
        },
        "id": "lveXnh8FqN71",
        "outputId": "4f28bed2-d800-4a7a-cad8-248d3369afd2"
      },
      "outputs": [
        {
          "output_type": "stream",
          "name": "stdout",
          "text": [
            "num_injuries/len(df)=0.5088\n"
          ]
        }
      ],
      "source": [
        "# a.\n",
        "\n",
        "import pandas as pd\n",
        "import numpy as np\n",
        "\n",
        "df = pd.read_csv('/content/accidentsFull.csv', index_col=None)\n",
        "\n",
        "df['INJURY'] = np.where(df['MAX_SEV_IR'] > 0, 1, 0)\n",
        "\n",
        "num_injuries = sum(df['INJURY']==1)\n",
        "\n",
        "print(f\"{num_injuries/len(df)=:.4f}\")"
      ]
    },
    {
      "cell_type": "code",
      "source": [
        "df.columns"
      ],
      "metadata": {
        "colab": {
          "base_uri": "https://localhost:8080/"
        },
        "id": "stXtKpd4PJe3",
        "outputId": "6ee7ec2b-ff7f-4560-db36-3d6b6bf3f047"
      },
      "execution_count": 25,
      "outputs": [
        {
          "output_type": "execute_result",
          "data": {
            "text/plain": [
              "Index(['HOUR_I_R', 'ALCHL_I', 'ALIGN_I', 'STRATUM_R', 'WRK_ZONE', 'WKDY_I_R',\n",
              "       'INT_HWY', 'LGTCON_I_R', 'MANCOL_I_R', 'PED_ACC_R', 'RELJCT_I_R',\n",
              "       'REL_RWY_R', 'PROFIL_I_R', 'SPD_LIM', 'SUR_COND', 'TRAF_CON_R',\n",
              "       'TRAF_WAY', 'VEH_INVL', 'WEATHER_R', 'INJURY_CRASH', 'NO_INJ_I',\n",
              "       'PRPTYDMG_CRASH', 'FATALITIES', 'MAX_SEV_IR', 'INJURY'],\n",
              "      dtype='object')"
            ]
          },
          "metadata": {},
          "execution_count": 25
        }
      ]
    },
    {
      "cell_type": "code",
      "source": [
        "# b.\n",
        "\n",
        "df_b = df[['WEATHER_R', 'TRAF_CON_R', 'INJURY']][:12]\n",
        "print(df_b)"
      ],
      "metadata": {
        "colab": {
          "base_uri": "https://localhost:8080/"
        },
        "id": "6XDZO4K9qTDX",
        "outputId": "2a4fe723-c821-4cdb-9cd3-4f2083d7e5b1"
      },
      "execution_count": 26,
      "outputs": [
        {
          "output_type": "stream",
          "name": "stdout",
          "text": [
            "    WEATHER_R  TRAF_CON_R  INJURY\n",
            "0           1           0       1\n",
            "1           2           0       0\n",
            "2           2           1       0\n",
            "3           1           1       0\n",
            "4           1           0       0\n",
            "5           2           0       1\n",
            "6           2           0       0\n",
            "7           1           0       1\n",
            "8           2           0       0\n",
            "9           2           0       0\n",
            "10          2           0       0\n",
            "11          1           2       0\n"
          ]
        }
      ]
    },
    {
      "cell_type": "code",
      "source": [
        "# b.i\n",
        "\n",
        "pivot_table = df_b.pivot_table(\n",
        "    values='INJURY',\n",
        "    index='WEATHER_R',\n",
        "    columns='TRAF_CON_R')\n",
        "\n",
        "print(pivot_table)"
      ],
      "metadata": {
        "colab": {
          "base_uri": "https://localhost:8080/"
        },
        "id": "-XOmjUNXfooh",
        "outputId": "1e6b5a5e-04bd-480e-fc57-752e84048255"
      },
      "execution_count": 4,
      "outputs": [
        {
          "output_type": "stream",
          "name": "stdout",
          "text": [
            "TRAF_CON_R         0    1    2\n",
            "WEATHER_R                     \n",
            "1           0.666667  0.0  0.0\n",
            "2           0.166667  0.0  NaN\n"
          ]
        }
      ]
    },
    {
      "cell_type": "code",
      "source": [
        "# b.v\n",
        "\n",
        "exact_probs = [2/3, 1/6, 0, 0, 2/3, 1/6, 1/6, 2/3, 1/6, 1/6, 1/6, 0]\n",
        "\n",
        "from sklearn.naive_bayes import CategoricalNB\n",
        "\n",
        "X = df_b.drop('INJURY', axis=1)\n",
        "y = df_b['INJURY']\n",
        "\n",
        "nb_classifier = CategoricalNB(alpha=0)\n",
        "nb_classifier.fit(X, y)\n",
        "\n",
        "y_pred = nb_classifier.predict(X)\n",
        "y_prob = nb_classifier.predict_proba(X)\n",
        "\n",
        "for idx in range(len(y_pred)):\n",
        "    print(f\"data {idx:2d}. 정답: {y[idx]}\")\n",
        "    print(f\"{'Exact':5} | 예측: {int(exact_probs[idx]>=0.5)}, 부상 확률: {exact_probs[idx]:.4f}\")\n",
        "    print(f\"{'Naive':5} | 예측: {y_pred[idx]}, 부상 확률: {y_prob[idx][1]:.4f}\")"
      ],
      "metadata": {
        "id": "1s-VEgXCqYR_",
        "colab": {
          "base_uri": "https://localhost:8080/"
        },
        "outputId": "5c0f9ae7-a22a-44de-afd3-c51cda3474fb"
      },
      "execution_count": 54,
      "outputs": [
        {
          "output_type": "stream",
          "name": "stdout",
          "text": [
            "data  0. 정답: 1\n",
            "Exact | 예측: 1, 부상 확률: 0.6667\n",
            "Naive | 예측: 1, 부상 확률: 0.5000\n",
            "data  1. 정답: 0\n",
            "Exact | 예측: 0, 부상 확률: 0.1667\n",
            "Naive | 예측: 0, 부상 확률: 0.2000\n",
            "data  2. 정답: 0\n",
            "Exact | 예측: 0, 부상 확률: 0.0000\n",
            "Naive | 예측: 0, 부상 확률: 0.0000\n",
            "data  3. 정답: 0\n",
            "Exact | 예측: 0, 부상 확률: 0.0000\n",
            "Naive | 예측: 0, 부상 확률: 0.0000\n",
            "data  4. 정답: 0\n",
            "Exact | 예측: 1, 부상 확률: 0.6667\n",
            "Naive | 예측: 1, 부상 확률: 0.5000\n",
            "data  5. 정답: 1\n",
            "Exact | 예측: 0, 부상 확률: 0.1667\n",
            "Naive | 예측: 0, 부상 확률: 0.2000\n",
            "data  6. 정답: 0\n",
            "Exact | 예측: 0, 부상 확률: 0.1667\n",
            "Naive | 예측: 0, 부상 확률: 0.2000\n",
            "data  7. 정답: 1\n",
            "Exact | 예측: 1, 부상 확률: 0.6667\n",
            "Naive | 예측: 1, 부상 확률: 0.5000\n",
            "data  8. 정답: 0\n",
            "Exact | 예측: 0, 부상 확률: 0.1667\n",
            "Naive | 예측: 0, 부상 확률: 0.2000\n",
            "data  9. 정답: 0\n",
            "Exact | 예측: 0, 부상 확률: 0.1667\n",
            "Naive | 예측: 0, 부상 확률: 0.2000\n",
            "data 10. 정답: 0\n",
            "Exact | 예측: 0, 부상 확률: 0.1667\n",
            "Naive | 예측: 0, 부상 확률: 0.2000\n",
            "data 11. 정답: 0\n",
            "Exact | 예측: 0, 부상 확률: 0.0000\n",
            "Naive | 예측: 0, 부상 확률: 0.0000\n"
          ]
        },
        {
          "output_type": "stream",
          "name": "stderr",
          "text": [
            "/usr/local/lib/python3.10/dist-packages/sklearn/naive_bayes.py:1504: RuntimeWarning: divide by zero encountered in log\n",
            "  np.log(smoothed_cat_count) - np.log(smoothed_class_count.reshape(-1, 1))\n"
          ]
        }
      ]
    },
    {
      "cell_type": "code",
      "source": [
        "# c.i\n",
        "\n",
        "import pandas as pd\n",
        "from sklearn.model_selection import train_test_split\n",
        "from sklearn.naive_bayes import CategoricalNB\n",
        "from sklearn.metrics import accuracy_score, confusion_matrix\n",
        "\n",
        "\n",
        "df_c = df[['HOUR_I_R', 'WKDY_I_R', 'LGTCON_I_R',\n",
        "           'ALIGN_I', 'WRK_ZONE', 'INT_HWY', 'RELJCT_I_R', 'REL_RWY_R', 'PROFIL_I_R', 'SPD_LIM', 'TRAF_CON_R', 'TRAF_WAY',\n",
        "           'SUR_COND', 'WEATHER_R',\n",
        "           'INJURY']]"
      ],
      "metadata": {
        "id": "xI0H7pgLPpz1"
      },
      "execution_count": 6,
      "outputs": []
    },
    {
      "cell_type": "code",
      "source": [
        "# c.ii & c.iii\n",
        "\n",
        "X = df_c.drop(['INJURY'], axis=1)\n",
        "y = df_c['INJURY']\n",
        "\n",
        "X_train, X_test, y_train, y_test = train_test_split(X, y, test_size=0.4, random_state=42)\n",
        "\n",
        "nb_classifier = CategoricalNB(alpha=0)\n",
        "nb_classifier.fit(X_train, y_train)\n",
        "\n",
        "y_pred = nb_classifier.predict(X_test)\n",
        "y_prob = nb_classifier.predict_proba(X_test)\n",
        "acc_sco = accuracy_score(y_test, y_pred)\n",
        "conf_mat = confusion_matrix(y_test, y_pred)\n",
        "error_rate = 1 - acc_sco\n",
        "\n",
        "print(\"confusion matrix:\\n\", conf_mat)\n",
        "print(f\"error rate: {error_rate:.4f}\")\n"
      ],
      "metadata": {
        "colab": {
          "base_uri": "https://localhost:8080/"
        },
        "id": "Rqlkins8qgGr",
        "outputId": "98721577-4cbe-4aea-8569-d919c4996c4a"
      },
      "execution_count": 55,
      "outputs": [
        {
          "output_type": "stream",
          "name": "stdout",
          "text": [
            "confusion matrix:\n",
            " [[3783 4490]\n",
            " [3391 5210]]\n",
            "error rate: 0.4670\n"
          ]
        },
        {
          "output_type": "stream",
          "name": "stderr",
          "text": [
            "/usr/local/lib/python3.10/dist-packages/sklearn/naive_bayes.py:1504: RuntimeWarning: divide by zero encountered in log\n",
            "  np.log(smoothed_cat_count) - np.log(smoothed_class_count.reshape(-1, 1))\n"
          ]
        }
      ]
    },
    {
      "cell_type": "code",
      "source": [
        "# c.v\n",
        "\n",
        "pivot_table = df_c.pivot_table(\n",
        "    values='INJURY',\n",
        "    index='SPD_LIM',\n",
        "    )\n",
        "\n",
        "print(pivot_table)"
      ],
      "metadata": {
        "colab": {
          "base_uri": "https://localhost:8080/"
        },
        "id": "yGnPJtaPeyfg",
        "outputId": "98dfd40b-3548-4641-f9bb-8c3bf48b8288"
      },
      "execution_count": 57,
      "outputs": [
        {
          "output_type": "stream",
          "name": "stdout",
          "text": [
            "           INJURY\n",
            "SPD_LIM          \n",
            "5        0.666667\n",
            "10       0.500000\n",
            "15       0.491803\n",
            "20       0.366534\n",
            "25       0.466112\n",
            "30       0.513594\n",
            "35       0.532373\n",
            "40       0.540428\n",
            "45       0.508122\n",
            "50       0.493093\n",
            "55       0.498635\n",
            "60       0.561520\n",
            "65       0.495028\n",
            "70       0.437414\n",
            "75       0.554770\n"
          ]
        }
      ]
    },
    {
      "cell_type": "code",
      "source": [
        "print(df_c[df_c['SPD_LIM']==5])"
      ],
      "metadata": {
        "colab": {
          "base_uri": "https://localhost:8080/"
        },
        "id": "us3upoZ90jEs",
        "outputId": "6ee748cf-672e-48da-d817-de5be2ce5b0f"
      },
      "execution_count": 56,
      "outputs": [
        {
          "output_type": "stream",
          "name": "stdout",
          "text": [
            "       HOUR_I_R  WKDY_I_R  LGTCON_I_R  ALIGN_I  WRK_ZONE  INT_HWY  RELJCT_I_R  \\\n",
            "9827          0         0           2        1         0        0           0   \n",
            "11278         0         0           2        1         0        0           1   \n",
            "11847         0         1           2        1         0        0           1   \n",
            "24185         0         0           1        2         0        0           1   \n",
            "33330         1         1           1        1         0        0           1   \n",
            "40366         0         1           1        1         0        0           1   \n",
            "\n",
            "       REL_RWY_R  PROFIL_I_R  SPD_LIM  TRAF_CON_R  TRAF_WAY  SUR_COND  \\\n",
            "9827           0           1        5           0         1         1   \n",
            "11278          1           0        5           0         1         1   \n",
            "11847          1           0        5           2         1         1   \n",
            "24185          1           0        5           2         3         1   \n",
            "33330          1           0        5           1         1         1   \n",
            "40366          0           0        5           0         1         1   \n",
            "\n",
            "       WEATHER_R  INJURY  \n",
            "9827           1       0  \n",
            "11278          1       1  \n",
            "11847          1       1  \n",
            "24185          1       1  \n",
            "33330          1       1  \n",
            "40366          1       0  \n"
          ]
        }
      ]
    },
    {
      "cell_type": "code",
      "source": [],
      "metadata": {
        "id": "8dQDy_7ezL55"
      },
      "execution_count": null,
      "outputs": []
    }
  ]
}